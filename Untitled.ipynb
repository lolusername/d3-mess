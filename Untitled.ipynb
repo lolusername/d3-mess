{
 "cells": [
  {
   "cell_type": "code",
   "execution_count": 367,
   "id": "1ef943fd-f9f2-4e56-9a66-ee0b570a0b39",
   "metadata": {},
   "outputs": [
    {
     "data": {
      "text/plain": [
       "40"
      ]
     },
     "execution_count": 367,
     "metadata": {},
     "output_type": "execute_result"
    }
   ],
   "source": [
    "from IPython.display import display, HTML\n",
    "\n",
    "\n",
    "\n",
    "\n",
    "import numpy as np\n",
    "import pandas as pd\n",
    "\n",
    "\n",
    "dh2012 = pd.read_csv('data/dh2012.csv')\n",
    "\n",
    "dh2012['Author'] = dh2012['Author'].fillna(method='ffill')\n",
    "\n",
    "dh2012 = dh2012[1:]\n",
    "\n",
    "\n",
    "authors = dh2012.Author.unique()\n",
    "len(authors)"
   ]
  },
  {
   "cell_type": "code",
   "execution_count": 279,
   "id": "4f4af4a0-010b-4a70-9082-dd05381ba6c7",
   "metadata": {},
   "outputs": [
    {
     "data": {
      "text/plain": [
       "116"
      ]
     },
     "execution_count": 279,
     "metadata": {},
     "output_type": "execute_result"
    }
   ],
   "source": [
    "projects = dh2012['Project Title'].unique()\n",
    "len(projects)"
   ]
  },
  {
   "cell_type": "code",
   "execution_count": 396,
   "id": "82758f02-2ed4-44a6-8b2c-7f3dba50e6e3",
   "metadata": {},
   "outputs": [
    {
     "data": {
      "text/html": [
       "<div>\n",
       "<style scoped>\n",
       "    .dataframe tbody tr th:only-of-type {\n",
       "        vertical-align: middle;\n",
       "    }\n",
       "\n",
       "    .dataframe tbody tr th {\n",
       "        vertical-align: top;\n",
       "    }\n",
       "\n",
       "    .dataframe thead th {\n",
       "        text-align: right;\n",
       "    }\n",
       "</style>\n",
       "<table border=\"1\" class=\"dataframe\">\n",
       "  <thead>\n",
       "    <tr style=\"text-align: right;\">\n",
       "      <th></th>\n",
       "      <th>source</th>\n",
       "      <th>target</th>\n",
       "    </tr>\n",
       "  </thead>\n",
       "  <tbody>\n",
       "    <tr>\n",
       "      <th>0</th>\n",
       "      <td>[Matthew K. Gold, Paul Fyfe]</td>\n",
       "      <td>Chapter Author Project Title Creators Webs...</td>\n",
       "    </tr>\n",
       "    <tr>\n",
       "      <th>1</th>\n",
       "      <td>[Matthew K. Gold]</td>\n",
       "      <td>Chapter Author Project Title Creators Websit...</td>\n",
       "    </tr>\n",
       "    <tr>\n",
       "      <th>2</th>\n",
       "      <td>[]</td>\n",
       "      <td>Empty DataFrame\n",
       "Columns: [Chapter, Author, Pro...</td>\n",
       "    </tr>\n",
       "    <tr>\n",
       "      <th>3</th>\n",
       "      <td>[Matthew Kirschenbaum]</td>\n",
       "      <td>Chapter Author Project Title Creators Websit...</td>\n",
       "    </tr>\n",
       "    <tr>\n",
       "      <th>4</th>\n",
       "      <td>[Matthew Kirschenbaum, Neil Fraistat]</td>\n",
       "      <td>Chapter Author Project Title Creators Webs...</td>\n",
       "    </tr>\n",
       "    <tr>\n",
       "      <th>...</th>\n",
       "      <td>...</td>\n",
       "      <td>...</td>\n",
       "    </tr>\n",
       "    <tr>\n",
       "      <th>111</th>\n",
       "      <td>[Cathy N. Davidson]</td>\n",
       "      <td>Chapter Author Project Title Creators Webs...</td>\n",
       "    </tr>\n",
       "    <tr>\n",
       "      <th>112</th>\n",
       "      <td>[Cathy N. Davidson]</td>\n",
       "      <td>Chapter Author Project Title Creators Webs...</td>\n",
       "    </tr>\n",
       "    <tr>\n",
       "      <th>113</th>\n",
       "      <td>[Cathy N. Davidson]</td>\n",
       "      <td>Chapter Author Project Title Creators Webs...</td>\n",
       "    </tr>\n",
       "    <tr>\n",
       "      <th>114</th>\n",
       "      <td>[Alan Liu]</td>\n",
       "      <td>Chapter Author Project Title Creators Webs...</td>\n",
       "    </tr>\n",
       "    <tr>\n",
       "      <th>115</th>\n",
       "      <td>[Alan Liu]</td>\n",
       "      <td>Chapter Author Project Title Creators Webs...</td>\n",
       "    </tr>\n",
       "  </tbody>\n",
       "</table>\n",
       "<p>116 rows × 2 columns</p>\n",
       "</div>"
      ],
      "text/plain": [
       "                                    source  \\\n",
       "0             [Matthew K. Gold, Paul Fyfe]   \n",
       "1                        [Matthew K. Gold]   \n",
       "2                                       []   \n",
       "3                   [Matthew Kirschenbaum]   \n",
       "4    [Matthew Kirschenbaum, Neil Fraistat]   \n",
       "..                                     ...   \n",
       "111                    [Cathy N. Davidson]   \n",
       "112                    [Cathy N. Davidson]   \n",
       "113                    [Cathy N. Davidson]   \n",
       "114                             [Alan Liu]   \n",
       "115                             [Alan Liu]   \n",
       "\n",
       "                                                target  \n",
       "0        Chapter Author Project Title Creators Webs...  \n",
       "1      Chapter Author Project Title Creators Websit...  \n",
       "2    Empty DataFrame\n",
       "Columns: [Chapter, Author, Pro...  \n",
       "3      Chapter Author Project Title Creators Websit...  \n",
       "4        Chapter Author Project Title Creators Webs...  \n",
       "..                                                 ...  \n",
       "111      Chapter Author Project Title Creators Webs...  \n",
       "112      Chapter Author Project Title Creators Webs...  \n",
       "113      Chapter Author Project Title Creators Webs...  \n",
       "114      Chapter Author Project Title Creators Webs...  \n",
       "115      Chapter Author Project Title Creators Webs...  \n",
       "\n",
       "[116 rows x 2 columns]"
      ]
     },
     "execution_count": 396,
     "metadata": {},
     "output_type": "execute_result"
    }
   ],
   "source": [
    "edges = pd.DataFrame(columns=['source','target'])\n",
    "\n",
    "for project in projects:\n",
    "    citations = dh2012.loc[dh2012['Project Title'] == project]\n",
    "    # print(project,citations.Chapter.values)\n",
    "    edges = edges.append({'source':citations.Author.values,'target':citations[citations.loc[citations['Author'] != citations.Author.values]]},ignore_index=True)\n",
    "    \n",
    "edges"
   ]
  }
 ],
 "metadata": {
  "kernelspec": {
   "display_name": "Python 3 (ipykernel)",
   "language": "python",
   "name": "python3"
  },
  "language_info": {
   "codemirror_mode": {
    "name": "ipython",
    "version": 3
   },
   "file_extension": ".py",
   "mimetype": "text/x-python",
   "name": "python",
   "nbconvert_exporter": "python",
   "pygments_lexer": "ipython3",
   "version": "3.9.7"
  }
 },
 "nbformat": 4,
 "nbformat_minor": 5
}
