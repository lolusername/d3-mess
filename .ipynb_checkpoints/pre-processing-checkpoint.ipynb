{
 "cells": [
  {
   "cell_type": "code",
   "execution_count": 463,
   "id": "372aa64f-ab23-4ca9-b20e-f47d824ebbe4",
   "metadata": {},
   "outputs": [],
   "source": [
    "import pandas as pd\n",
    "\n",
    "dh2012 = pd.read_csv('data/dh2012.csv')\n",
    "dh2012 = dh2012.fillna(method='ffill')\n",
    "dh2012 = dh2012[1:]\n",
    "\n",
    "filter = dh2012['Project still exists?'] == 'Yes'\n",
    "dh2012_active = dh2012[filter]\n",
    "dh2012_inactive = dh2012[~filter]"
   ]
  },
  {
   "cell_type": "code",
   "execution_count": 384,
   "id": "a0132501-4191-4345-97f5-a936421fd05a",
   "metadata": {},
   "outputs": [
    {
     "data": {
      "text/html": [
       "<div>\n",
       "<style scoped>\n",
       "    .dataframe tbody tr th:only-of-type {\n",
       "        vertical-align: middle;\n",
       "    }\n",
       "\n",
       "    .dataframe tbody tr th {\n",
       "        vertical-align: top;\n",
       "    }\n",
       "\n",
       "    .dataframe thead th {\n",
       "        text-align: right;\n",
       "    }\n",
       "</style>\n",
       "<table border=\"1\" class=\"dataframe\">\n",
       "  <thead>\n",
       "    <tr style=\"text-align: right;\">\n",
       "      <th></th>\n",
       "      <th>project</th>\n",
       "      <th>cite_count</th>\n",
       "      <th>is_active</th>\n",
       "    </tr>\n",
       "  </thead>\n",
       "  <tbody>\n",
       "  </tbody>\n",
       "</table>\n",
       "</div>"
      ],
      "text/plain": [
       "Empty DataFrame\n",
       "Columns: [project, cite_count, is_active]\n",
       "Index: []"
      ]
     },
     "execution_count": 384,
     "metadata": {},
     "output_type": "execute_result"
    }
   ],
   "source": [
    "# top2012_all = pd.DataFrame(columns=[\"project\",\"cite_count\",\"is_active\"])\n",
    "\n",
    "# for idx,project in enumerate(dh2012_active['Project Title'].value_counts().index.tolist()):\n",
    "#     # is_active = dh2012.loc[dh2012['Project Title'] == project, 'Project still exists?'].to_list()[0]\n",
    "#     row = {'project': project, 'cite_count': dh2012['Project Title'].value_counts()[idx]}\n",
    "#     top2012_active = top2012_active.append(row, ignore_index = True)\n",
    "    \n",
    "# top2012_active = top2012_active[:10]\n",
    "\n",
    "\n",
    "# top2012_all"
   ]
  },
  {
   "cell_type": "code",
   "execution_count": 458,
   "id": "b38ceff4-3e7d-4983-b0c7-b1e492cd4486",
   "metadata": {},
   "outputs": [
    {
     "data": {
      "text/html": [
       "<div>\n",
       "<style scoped>\n",
       "    .dataframe tbody tr th:only-of-type {\n",
       "        vertical-align: middle;\n",
       "    }\n",
       "\n",
       "    .dataframe tbody tr th {\n",
       "        vertical-align: top;\n",
       "    }\n",
       "\n",
       "    .dataframe thead th {\n",
       "        text-align: right;\n",
       "    }\n",
       "</style>\n",
       "<table border=\"1\" class=\"dataframe\">\n",
       "  <thead>\n",
       "    <tr style=\"text-align: right;\">\n",
       "      <th></th>\n",
       "      <th>project</th>\n",
       "      <th>cite_count</th>\n",
       "    </tr>\n",
       "  </thead>\n",
       "  <tbody>\n",
       "  </tbody>\n",
       "</table>\n",
       "</div>"
      ],
      "text/plain": [
       "Empty DataFrame\n",
       "Columns: [project, cite_count]\n",
       "Index: []"
      ]
     },
     "execution_count": 458,
     "metadata": {},
     "output_type": "execute_result"
    }
   ],
   "source": [
    "top2012_active = pd.DataFrame(columns=[\"project\",\"cite_count\"])\n",
    "\n",
    "top2012_active"
   ]
  },
  {
   "cell_type": "code",
   "execution_count": 461,
   "id": "0bb67633-aeeb-410c-a64d-78127cbf72b9",
   "metadata": {},
   "outputs": [
    {
     "data": {
      "text/html": [
       "<div>\n",
       "<style scoped>\n",
       "    .dataframe tbody tr th:only-of-type {\n",
       "        vertical-align: middle;\n",
       "    }\n",
       "\n",
       "    .dataframe tbody tr th {\n",
       "        vertical-align: top;\n",
       "    }\n",
       "\n",
       "    .dataframe thead th {\n",
       "        text-align: right;\n",
       "    }\n",
       "</style>\n",
       "<table border=\"1\" class=\"dataframe\">\n",
       "  <thead>\n",
       "    <tr style=\"text-align: right;\">\n",
       "      <th></th>\n",
       "      <th>project</th>\n",
       "      <th>cite_count</th>\n",
       "    </tr>\n",
       "  </thead>\n",
       "  <tbody>\n",
       "    <tr>\n",
       "      <th>0</th>\n",
       "      <td>Zotero</td>\n",
       "      <td>16</td>\n",
       "    </tr>\n",
       "    <tr>\n",
       "      <th>1</th>\n",
       "      <td>Ngram Viewer</td>\n",
       "      <td>15</td>\n",
       "    </tr>\n",
       "    <tr>\n",
       "      <th>2</th>\n",
       "      <td>Google Books</td>\n",
       "      <td>9</td>\n",
       "    </tr>\n",
       "    <tr>\n",
       "      <th>3</th>\n",
       "      <td>Rossetti Archive</td>\n",
       "      <td>5</td>\n",
       "    </tr>\n",
       "    <tr>\n",
       "      <th>4</th>\n",
       "      <td>The Nineteenth-Century Digital Concord Archive</td>\n",
       "      <td>4</td>\n",
       "    </tr>\n",
       "    <tr>\n",
       "      <th>5</th>\n",
       "      <td>Digital Humanities Now (DHN)</td>\n",
       "      <td>4</td>\n",
       "    </tr>\n",
       "    <tr>\n",
       "      <th>6</th>\n",
       "      <td>CUNY Academic Commons</td>\n",
       "      <td>4</td>\n",
       "    </tr>\n",
       "    <tr>\n",
       "      <th>7</th>\n",
       "      <td>HATHITrust Digital Library</td>\n",
       "      <td>4</td>\n",
       "    </tr>\n",
       "    <tr>\n",
       "      <th>8</th>\n",
       "      <td>Omeka</td>\n",
       "      <td>4</td>\n",
       "    </tr>\n",
       "    <tr>\n",
       "      <th>9</th>\n",
       "      <td>Mapping the Republic of Letters</td>\n",
       "      <td>4</td>\n",
       "    </tr>\n",
       "  </tbody>\n",
       "</table>\n",
       "</div>"
      ],
      "text/plain": [
       "                                          project cite_count\n",
       "0                                          Zotero         16\n",
       "1                                    Ngram Viewer         15\n",
       "2                                    Google Books          9\n",
       "3                                Rossetti Archive          5\n",
       "4  The Nineteenth-Century Digital Concord Archive          4\n",
       "5                    Digital Humanities Now (DHN)          4\n",
       "6                           CUNY Academic Commons          4\n",
       "7                      HATHITrust Digital Library          4\n",
       "8                                           Omeka          4\n",
       "9                 Mapping the Republic of Letters          4"
      ]
     },
     "execution_count": 461,
     "metadata": {},
     "output_type": "execute_result"
    }
   ],
   "source": [
    "for idx,project in enumerate(dh2012_active['Project Title'].value_counts().index.tolist()):\n",
    "\n",
    "    row = {'project': project, 'cite_count': dh2012_active['Project Title'].value_counts()[idx]}\n",
    "    top2012_active = top2012_active.append(row, ignore_index = True)\n",
    "    \n",
    "top2012_active = top2012_active[:10]\n",
    "\n",
    "top2012_active"
   ]
  },
  {
   "cell_type": "code",
   "execution_count": 456,
   "id": "aec22c48-9cf0-4ac0-9705-15707a76334a",
   "metadata": {},
   "outputs": [
    {
     "data": {
      "text/html": [
       "<div>\n",
       "<style scoped>\n",
       "    .dataframe tbody tr th:only-of-type {\n",
       "        vertical-align: middle;\n",
       "    }\n",
       "\n",
       "    .dataframe tbody tr th {\n",
       "        vertical-align: top;\n",
       "    }\n",
       "\n",
       "    .dataframe thead th {\n",
       "        text-align: right;\n",
       "    }\n",
       "</style>\n",
       "<table border=\"1\" class=\"dataframe\">\n",
       "  <thead>\n",
       "    <tr style=\"text-align: right;\">\n",
       "      <th></th>\n",
       "      <th>project</th>\n",
       "      <th>cite_count</th>\n",
       "    </tr>\n",
       "  </thead>\n",
       "  <tbody>\n",
       "  </tbody>\n",
       "</table>\n",
       "</div>"
      ],
      "text/plain": [
       "Empty DataFrame\n",
       "Columns: [project, cite_count]\n",
       "Index: []"
      ]
     },
     "execution_count": 456,
     "metadata": {},
     "output_type": "execute_result"
    }
   ],
   "source": [
    "top2012_inactive = pd.DataFrame(columns=[\"project\",\"cite_count\"])\n",
    "\n",
    "top2012_inactive"
   ]
  },
  {
   "cell_type": "code",
   "execution_count": 460,
   "id": "2855f027-666b-4110-9cf8-fa12c3549e1e",
   "metadata": {},
   "outputs": [
    {
     "data": {
      "text/html": [
       "<div>\n",
       "<style scoped>\n",
       "    .dataframe tbody tr th:only-of-type {\n",
       "        vertical-align: middle;\n",
       "    }\n",
       "\n",
       "    .dataframe tbody tr th {\n",
       "        vertical-align: top;\n",
       "    }\n",
       "\n",
       "    .dataframe thead th {\n",
       "        text-align: right;\n",
       "    }\n",
       "</style>\n",
       "<table border=\"1\" class=\"dataframe\">\n",
       "  <thead>\n",
       "    <tr style=\"text-align: right;\">\n",
       "      <th></th>\n",
       "      <th>project</th>\n",
       "      <th>cite_count</th>\n",
       "    </tr>\n",
       "  </thead>\n",
       "  <tbody>\n",
       "    <tr>\n",
       "      <th>0</th>\n",
       "      <td>Woodchipper</td>\n",
       "      <td>8</td>\n",
       "    </tr>\n",
       "    <tr>\n",
       "      <th>1</th>\n",
       "      <td>Looking for Whitman</td>\n",
       "      <td>7</td>\n",
       "    </tr>\n",
       "    <tr>\n",
       "      <th>2</th>\n",
       "      <td>THATCamp</td>\n",
       "      <td>3</td>\n",
       "    </tr>\n",
       "    <tr>\n",
       "      <th>3</th>\n",
       "      <td>Shakespeare Quartos Archive</td>\n",
       "      <td>2</td>\n",
       "    </tr>\n",
       "    <tr>\n",
       "      <th>4</th>\n",
       "      <td>Topicmarks</td>\n",
       "      <td>2</td>\n",
       "    </tr>\n",
       "    <tr>\n",
       "      <th>5</th>\n",
       "      <td>Preserving Virtual Worlds</td>\n",
       "      <td>2</td>\n",
       "    </tr>\n",
       "    <tr>\n",
       "      <th>6</th>\n",
       "      <td>SmartChoices</td>\n",
       "      <td>2</td>\n",
       "    </tr>\n",
       "    <tr>\n",
       "      <th>7</th>\n",
       "      <td>The Online Archive of Nineteenth-Century U.S. ...</td>\n",
       "      <td>1</td>\n",
       "    </tr>\n",
       "    <tr>\n",
       "      <th>8</th>\n",
       "      <td>Emory Women Writers Resource Project</td>\n",
       "      <td>1</td>\n",
       "    </tr>\n",
       "    <tr>\n",
       "      <th>9</th>\n",
       "      <td>Crossroads</td>\n",
       "      <td>1</td>\n",
       "    </tr>\n",
       "  </tbody>\n",
       "</table>\n",
       "</div>"
      ],
      "text/plain": [
       "                                             project cite_count\n",
       "0                                        Woodchipper          8\n",
       "1                                Looking for Whitman          7\n",
       "2                                           THATCamp          3\n",
       "3                        Shakespeare Quartos Archive          2\n",
       "4                                         Topicmarks          2\n",
       "5                          Preserving Virtual Worlds          2\n",
       "6                                       SmartChoices          2\n",
       "7  The Online Archive of Nineteenth-Century U.S. ...          1\n",
       "8               Emory Women Writers Resource Project          1\n",
       "9                                         Crossroads          1"
      ]
     },
     "execution_count": 460,
     "metadata": {},
     "output_type": "execute_result"
    }
   ],
   "source": [
    "for idx,project in enumerate(dh2012_inactive['Project Title'].value_counts().index.tolist()):\n",
    "\n",
    "    row = {'project': project, 'cite_count': dh2012_inactive['Project Title'].value_counts()[idx]}\n",
    "    top2012_inactive = top2012_inactive.append(row, ignore_index = True)\n",
    "    \n",
    "top2012_inactive = top2012_inactive[:10]\n",
    "\n",
    "top2012_inactive"
   ]
  },
  {
   "cell_type": "code",
   "execution_count": 480,
   "id": "8102bf14-1d92-42fb-9f0a-b6a989636a77",
   "metadata": {},
   "outputs": [],
   "source": [
    "top2012_inactive.to_csv('csv/top2012_inactive.csv',  index=False)\n",
    "top2012_active.to_csv('csv/top2012_active.csv', index=False )"
   ]
  }
 ],
 "metadata": {
  "kernelspec": {
   "display_name": "Python 3 (ipykernel)",
   "language": "python",
   "name": "python3"
  },
  "language_info": {
   "codemirror_mode": {
    "name": "ipython",
    "version": 3
   },
   "file_extension": ".py",
   "mimetype": "text/x-python",
   "name": "python",
   "nbconvert_exporter": "python",
   "pygments_lexer": "ipython3",
   "version": "3.9.7"
  }
 },
 "nbformat": 4,
 "nbformat_minor": 5
}
